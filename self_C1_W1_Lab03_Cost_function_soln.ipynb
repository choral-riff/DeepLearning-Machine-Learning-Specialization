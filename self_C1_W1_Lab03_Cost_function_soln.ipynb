{
  "nbformat": 4,
  "nbformat_minor": 0,
  "metadata": {
    "colab": {
      "provenance": []
    },
    "kernelspec": {
      "name": "python3",
      "display_name": "Python 3"
    },
    "language_info": {
      "name": "python"
    }
  },
  "cells": [
    {
      "cell_type": "code",
      "execution_count": null,
      "metadata": {
        "id": "BGMkez5f15fr"
      },
      "outputs": [],
      "source": [
        "#implementing and exploring the cost function for a single variable linear regression\n",
        "\n",
        "import numpy as np\n",
        "import matplotlib.pyplot as plt"
      ]
    },
    {
      "cell_type": "markdown",
      "source": [
        "Problem Statement\n",
        "\n",
        "<table>\n",
        "  <tr>\n",
        "    <th>Size (1000 sqft)</th>\n",
        "    <th>Price (1000s of dollars)</th>\n",
        "  </tr>\n",
        "\n",
        "  <tr>\n",
        "    <td>1</td>\n",
        "    <td>300</td>\n",
        "  </tr>\n",
        "\n",
        "  <tr>\n",
        "    <td>2</td>\n",
        "    <td>500</td>\n",
        "  </tr>\n",
        "</table>\n"
      ],
      "metadata": {
        "id": "MBQY20-z3P7Z"
      }
    },
    {
      "cell_type": "code",
      "source": [
        "#setting up x_train and y_train arrays\n",
        "x_train = np.array([1,2])\n",
        "y_train = np.array([300, 500])\n",
        "\n",
        "#printing out x_train and y_train\n",
        "print(f\"x_train is {x_train}\")\n",
        "print(f\"y_train is {y_train}\")"
      ],
      "metadata": {
        "colab": {
          "base_uri": "https://localhost:8080/"
        },
        "id": "tPfPoD104YkU",
        "outputId": "e4a01eae-4813-421a-f73c-5b47fb9cd285"
      },
      "execution_count": null,
      "outputs": [
        {
          "output_type": "stream",
          "name": "stdout",
          "text": [
            "x_train is [1 2]\n",
            "y_train is [300 500]\n"
          ]
        }
      ]
    },
    {
      "cell_type": "code",
      "source": [
        "def compute_cost (x, y, w, b):\n",
        "  # number of training examples\n",
        "  m = x.shape[0]\n",
        "\n",
        "  for i in range(m):\n",
        "    f_wb = w*x[i] + b\n",
        "    cost = (f_wb - y[i])**2\n",
        "    cost_sum = cost_sum + cost\n",
        "  total_cost = (1/(2*m))*cost_sum\n",
        "\n",
        "  return total_cost"
      ],
      "metadata": {
        "id": "5P-fOmNT44hq"
      },
      "execution_count": null,
      "outputs": []
    }
  ]
}